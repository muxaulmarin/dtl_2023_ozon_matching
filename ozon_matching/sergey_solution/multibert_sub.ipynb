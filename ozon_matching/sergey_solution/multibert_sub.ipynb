{
 "cells": [
  {
   "cell_type": "code",
   "execution_count": 1,
   "id": "4a01e9a3",
   "metadata": {},
   "outputs": [],
   "source": [
    "import pandas as pd\n",
    "\n",
    "df = pd.read_parquet('hackathon_files_for_participants_ozon/test_data.parquet')"
   ]
  },
  {
   "cell_type": "code",
   "execution_count": 2,
   "id": "de9c37da",
   "metadata": {},
   "outputs": [
    {
     "data": {
      "text/html": [
       "<div>\n",
       "<style scoped>\n",
       "    .dataframe tbody tr th:only-of-type {\n",
       "        vertical-align: middle;\n",
       "    }\n",
       "\n",
       "    .dataframe tbody tr th {\n",
       "        vertical-align: top;\n",
       "    }\n",
       "\n",
       "    .dataframe thead th {\n",
       "        text-align: right;\n",
       "    }\n",
       "</style>\n",
       "<table border=\"1\" class=\"dataframe\">\n",
       "  <thead>\n",
       "    <tr style=\"text-align: right;\">\n",
       "      <th></th>\n",
       "      <th>variantid</th>\n",
       "      <th>name</th>\n",
       "      <th>categories</th>\n",
       "      <th>color_parsed</th>\n",
       "      <th>pic_embeddings_resnet_v1</th>\n",
       "      <th>main_pic_embeddings_resnet_v1</th>\n",
       "      <th>name_bert_64</th>\n",
       "      <th>characteristic_attributes_mapping</th>\n",
       "    </tr>\n",
       "  </thead>\n",
       "  <tbody>\n",
       "    <tr>\n",
       "      <th>0</th>\n",
       "      <td>51201254</td>\n",
       "      <td>Колодка TDM Electric четырехместная без заземл...</td>\n",
       "      <td>{\"1\": \"EPG\", \"2\": \"Электроника\", \"3\": \"Сетевые...</td>\n",
       "      <td>[белый]</td>\n",
       "      <td>[[0.34383398, -0.2962618, 0.07987049, -0.08257...</td>\n",
       "      <td>[[0.38310742, -0.7876679, 0.5018278, 0.2090071...</td>\n",
       "      <td>[-0.5060825, 0.5773388, 0.59435517, -0.4958292...</td>\n",
       "      <td>{\"Страна-изготовитель\":[\"Китай\"],\"Бренд\":[\"TDM...</td>\n",
       "    </tr>\n",
       "    <tr>\n",
       "      <th>1</th>\n",
       "      <td>77151532</td>\n",
       "      <td>Клавиатура черная с черной рамкой для 25-011879</td>\n",
       "      <td>{\"1\": \"EPG\", \"2\": \"Электроника\", \"3\": \"Запчаст...</td>\n",
       "      <td>[черный]</td>\n",
       "      <td>None</td>\n",
       "      <td>[[0.50964713, 0.7958329, -1.4113188, 0.1999381...</td>\n",
       "      <td>[-0.43467724, 0.6614495, 0.48050267, -0.588880...</td>\n",
       "      <td>{\"Страна-изготовитель\":[\"Китай\"],\"Комплектация...</td>\n",
       "    </tr>\n",
       "    <tr>\n",
       "      <th>2</th>\n",
       "      <td>89664856</td>\n",
       "      <td>15.6\" Игровой ноутбук Acer Predator Helios 300...</td>\n",
       "      <td>{\"1\": \"EPG\", \"2\": \"Электроника\", \"3\": \"Компьют...</td>\n",
       "      <td>[черный]</td>\n",
       "      <td>[[0.7804302, -0.245446, -0.67754817, -0.614691...</td>\n",
       "      <td>[[0.9958085, -0.113175124, -0.7623152, -0.9164...</td>\n",
       "      <td>[-0.70010763, 0.48152006, 0.47597092, -0.51727...</td>\n",
       "      <td>{\"Видеокарта\":[\"NVIDIA GeForce RTX 2070 (8 Гб)...</td>\n",
       "    </tr>\n",
       "    <tr>\n",
       "      <th>3</th>\n",
       "      <td>90701982</td>\n",
       "      <td>Портативная колонка Borofone BR7 Empyreal Spor...</td>\n",
       "      <td>{\"1\": \"EPG\", \"2\": \"Электроника\", \"3\": \"Акустик...</td>\n",
       "      <td>[red, красный]</td>\n",
       "      <td>[[-0.24636984, -1.0719914, -0.49986655, 0.3423...</td>\n",
       "      <td>[[-0.26596686, -1.143009, -0.5289628, 0.428558...</td>\n",
       "      <td>[-0.73135185, -0.039796613, 0.38907066, -0.496...</td>\n",
       "      <td>{\"Основной материал корпуса\":[\"Металл\"],\"Макси...</td>\n",
       "    </tr>\n",
       "    <tr>\n",
       "      <th>4</th>\n",
       "      <td>92484118</td>\n",
       "      <td>Аккумулятор для Meizu BA712 ( M6s )</td>\n",
       "      <td>{\"1\": \"EPG\", \"2\": \"Электроника\", \"3\": \"Батарей...</td>\n",
       "      <td>None</td>\n",
       "      <td>None</td>\n",
       "      <td>[[0.42047608, 0.75828516, 0.5440093, -0.006894...</td>\n",
       "      <td>[-0.600158, 0.13944691, 0.48706242, -0.5050975...</td>\n",
       "      <td>{\"Рекомендовано для\":[\"Meizu\"],\"Бренд\":[\"Meizu...</td>\n",
       "    </tr>\n",
       "  </tbody>\n",
       "</table>\n",
       "</div>"
      ],
      "text/plain": [
       "   variantid                                               name   \n",
       "0   51201254  Колодка TDM Electric четырехместная без заземл...  \\\n",
       "1   77151532    Клавиатура черная с черной рамкой для 25-011879   \n",
       "2   89664856  15.6\" Игровой ноутбук Acer Predator Helios 300...   \n",
       "3   90701982  Портативная колонка Borofone BR7 Empyreal Spor...   \n",
       "4   92484118                Аккумулятор для Meizu BA712 ( M6s )   \n",
       "\n",
       "                                          categories    color_parsed   \n",
       "0  {\"1\": \"EPG\", \"2\": \"Электроника\", \"3\": \"Сетевые...         [белый]  \\\n",
       "1  {\"1\": \"EPG\", \"2\": \"Электроника\", \"3\": \"Запчаст...        [черный]   \n",
       "2  {\"1\": \"EPG\", \"2\": \"Электроника\", \"3\": \"Компьют...        [черный]   \n",
       "3  {\"1\": \"EPG\", \"2\": \"Электроника\", \"3\": \"Акустик...  [red, красный]   \n",
       "4  {\"1\": \"EPG\", \"2\": \"Электроника\", \"3\": \"Батарей...            None   \n",
       "\n",
       "                            pic_embeddings_resnet_v1   \n",
       "0  [[0.34383398, -0.2962618, 0.07987049, -0.08257...  \\\n",
       "1                                               None   \n",
       "2  [[0.7804302, -0.245446, -0.67754817, -0.614691...   \n",
       "3  [[-0.24636984, -1.0719914, -0.49986655, 0.3423...   \n",
       "4                                               None   \n",
       "\n",
       "                       main_pic_embeddings_resnet_v1   \n",
       "0  [[0.38310742, -0.7876679, 0.5018278, 0.2090071...  \\\n",
       "1  [[0.50964713, 0.7958329, -1.4113188, 0.1999381...   \n",
       "2  [[0.9958085, -0.113175124, -0.7623152, -0.9164...   \n",
       "3  [[-0.26596686, -1.143009, -0.5289628, 0.428558...   \n",
       "4  [[0.42047608, 0.75828516, 0.5440093, -0.006894...   \n",
       "\n",
       "                                        name_bert_64   \n",
       "0  [-0.5060825, 0.5773388, 0.59435517, -0.4958292...  \\\n",
       "1  [-0.43467724, 0.6614495, 0.48050267, -0.588880...   \n",
       "2  [-0.70010763, 0.48152006, 0.47597092, -0.51727...   \n",
       "3  [-0.73135185, -0.039796613, 0.38907066, -0.496...   \n",
       "4  [-0.600158, 0.13944691, 0.48706242, -0.5050975...   \n",
       "\n",
       "                   characteristic_attributes_mapping  \n",
       "0  {\"Страна-изготовитель\":[\"Китай\"],\"Бренд\":[\"TDM...  \n",
       "1  {\"Страна-изготовитель\":[\"Китай\"],\"Комплектация...  \n",
       "2  {\"Видеокарта\":[\"NVIDIA GeForce RTX 2070 (8 Гб)...  \n",
       "3  {\"Основной материал корпуса\":[\"Металл\"],\"Макси...  \n",
       "4  {\"Рекомендовано для\":[\"Meizu\"],\"Бренд\":[\"Meizu...  "
      ]
     },
     "execution_count": 2,
     "metadata": {},
     "output_type": "execute_result"
    }
   ],
   "source": [
    "df.head()"
   ]
  },
  {
   "cell_type": "code",
   "execution_count": 3,
   "id": "808cd008",
   "metadata": {},
   "outputs": [],
   "source": [
    "df_train_pairs = pd.read_parquet('hackathon_files_for_participants_ozon/test_pairs_wo_target.parquet')"
   ]
  },
  {
   "cell_type": "code",
   "execution_count": 4,
   "id": "2678097f",
   "metadata": {},
   "outputs": [],
   "source": [
    "def colors(s):\n",
    "    if (s is None) or (len(s) == 0):\n",
    "        return 'нет'\n",
    "    return ', '.join(eval(str(s)))\n",
    "\n",
    "def desc(s):\n",
    "    if s is None:\n",
    "        return 'нет'\n",
    "    return str(eval(s))\n",
    "\n",
    "df['text'] = df['name'] #+ ' цвета: ' + df['color_parsed'].apply(colors)# + ' описание: ' + \\\n",
    "#df['characteristic_attributes_mapping'].apply(desc)"
   ]
  },
  {
   "cell_type": "code",
   "execution_count": 5,
   "id": "082b3c19",
   "metadata": {},
   "outputs": [
    {
     "data": {
      "text/plain": [
       "0"
      ]
     },
     "execution_count": 5,
     "metadata": {},
     "output_type": "execute_result"
    }
   ],
   "source": [
    "import gc\n",
    "df = df[['variantid','text','categories']]\n",
    "gc.collect()"
   ]
  },
  {
   "cell_type": "code",
   "execution_count": 6,
   "id": "225e057e",
   "metadata": {},
   "outputs": [
    {
     "data": {
      "text/html": [
       "<div>\n",
       "<style scoped>\n",
       "    .dataframe tbody tr th:only-of-type {\n",
       "        vertical-align: middle;\n",
       "    }\n",
       "\n",
       "    .dataframe tbody tr th {\n",
       "        vertical-align: top;\n",
       "    }\n",
       "\n",
       "    .dataframe thead th {\n",
       "        text-align: right;\n",
       "    }\n",
       "</style>\n",
       "<table border=\"1\" class=\"dataframe\">\n",
       "  <thead>\n",
       "    <tr style=\"text-align: right;\">\n",
       "      <th></th>\n",
       "      <th>variantid1</th>\n",
       "      <th>variantid2</th>\n",
       "    </tr>\n",
       "  </thead>\n",
       "  <tbody>\n",
       "    <tr>\n",
       "      <th>0</th>\n",
       "      <td>52076340</td>\n",
       "      <td>290590137</td>\n",
       "    </tr>\n",
       "    <tr>\n",
       "      <th>1</th>\n",
       "      <td>64525522</td>\n",
       "      <td>204128919</td>\n",
       "    </tr>\n",
       "    <tr>\n",
       "      <th>2</th>\n",
       "      <td>77243372</td>\n",
       "      <td>479860557</td>\n",
       "    </tr>\n",
       "    <tr>\n",
       "      <th>3</th>\n",
       "      <td>86065820</td>\n",
       "      <td>540678372</td>\n",
       "    </tr>\n",
       "    <tr>\n",
       "      <th>4</th>\n",
       "      <td>91566575</td>\n",
       "      <td>258840506</td>\n",
       "    </tr>\n",
       "  </tbody>\n",
       "</table>\n",
       "</div>"
      ],
      "text/plain": [
       "   variantid1  variantid2\n",
       "0    52076340   290590137\n",
       "1    64525522   204128919\n",
       "2    77243372   479860557\n",
       "3    86065820   540678372\n",
       "4    91566575   258840506"
      ]
     },
     "execution_count": 6,
     "metadata": {},
     "output_type": "execute_result"
    }
   ],
   "source": [
    "df_train_pairs.head()"
   ]
  },
  {
   "cell_type": "code",
   "execution_count": 7,
   "id": "bf737a74",
   "metadata": {},
   "outputs": [
    {
     "name": "stderr",
     "output_type": "stream",
     "text": [
      "Some weights of the model checkpoint at bert-base-multilingual-cased were not used when initializing BertForSequenceClassification: ['cls.predictions.transform.dense.bias', 'cls.predictions.transform.LayerNorm.bias', 'cls.predictions.decoder.weight', 'cls.predictions.transform.LayerNorm.weight', 'cls.predictions.bias', 'cls.seq_relationship.bias', 'cls.predictions.transform.dense.weight', 'cls.seq_relationship.weight']\n",
      "- This IS expected if you are initializing BertForSequenceClassification from the checkpoint of a model trained on another task or with another architecture (e.g. initializing a BertForSequenceClassification model from a BertForPreTraining model).\n",
      "- This IS NOT expected if you are initializing BertForSequenceClassification from the checkpoint of a model that you expect to be exactly identical (initializing a BertForSequenceClassification model from a BertForSequenceClassification model).\n",
      "Some weights of BertForSequenceClassification were not initialized from the model checkpoint at bert-base-multilingual-cased and are newly initialized: ['classifier.weight', 'classifier.bias']\n",
      "You should probably TRAIN this model on a down-stream task to be able to use it for predictions and inference.\n",
      "Some weights of the model checkpoint at bert-base-multilingual-cased were not used when initializing BertForSequenceClassification: ['cls.predictions.transform.dense.bias', 'cls.predictions.transform.LayerNorm.bias', 'cls.predictions.decoder.weight', 'cls.predictions.transform.LayerNorm.weight', 'cls.predictions.bias', 'cls.seq_relationship.bias', 'cls.predictions.transform.dense.weight', 'cls.seq_relationship.weight']\n",
      "- This IS expected if you are initializing BertForSequenceClassification from the checkpoint of a model trained on another task or with another architecture (e.g. initializing a BertForSequenceClassification model from a BertForPreTraining model).\n",
      "- This IS NOT expected if you are initializing BertForSequenceClassification from the checkpoint of a model that you expect to be exactly identical (initializing a BertForSequenceClassification model from a BertForSequenceClassification model).\n",
      "Some weights of BertForSequenceClassification were not initialized from the model checkpoint at bert-base-multilingual-cased and are newly initialized: ['classifier.weight', 'classifier.bias']\n",
      "You should probably TRAIN this model on a down-stream task to be able to use it for predictions and inference.\n",
      "Some weights of the model checkpoint at bert-base-multilingual-cased were not used when initializing BertForSequenceClassification: ['cls.predictions.transform.dense.bias', 'cls.predictions.transform.LayerNorm.bias', 'cls.predictions.decoder.weight', 'cls.predictions.transform.LayerNorm.weight', 'cls.predictions.bias', 'cls.seq_relationship.bias', 'cls.predictions.transform.dense.weight', 'cls.seq_relationship.weight']\n",
      "- This IS expected if you are initializing BertForSequenceClassification from the checkpoint of a model trained on another task or with another architecture (e.g. initializing a BertForSequenceClassification model from a BertForPreTraining model).\n",
      "- This IS NOT expected if you are initializing BertForSequenceClassification from the checkpoint of a model that you expect to be exactly identical (initializing a BertForSequenceClassification model from a BertForSequenceClassification model).\n",
      "Some weights of BertForSequenceClassification were not initialized from the model checkpoint at bert-base-multilingual-cased and are newly initialized: ['classifier.weight', 'classifier.bias']\n",
      "You should probably TRAIN this model on a down-stream task to be able to use it for predictions and inference.\n",
      "Some weights of the model checkpoint at bert-base-multilingual-cased were not used when initializing BertForSequenceClassification: ['cls.predictions.transform.dense.bias', 'cls.predictions.transform.LayerNorm.bias', 'cls.predictions.decoder.weight', 'cls.predictions.transform.LayerNorm.weight', 'cls.predictions.bias', 'cls.seq_relationship.bias', 'cls.predictions.transform.dense.weight', 'cls.seq_relationship.weight']\n",
      "- This IS expected if you are initializing BertForSequenceClassification from the checkpoint of a model trained on another task or with another architecture (e.g. initializing a BertForSequenceClassification model from a BertForPreTraining model).\n",
      "- This IS NOT expected if you are initializing BertForSequenceClassification from the checkpoint of a model that you expect to be exactly identical (initializing a BertForSequenceClassification model from a BertForSequenceClassification model).\n",
      "Some weights of BertForSequenceClassification were not initialized from the model checkpoint at bert-base-multilingual-cased and are newly initialized: ['classifier.weight', 'classifier.bias']\n",
      "You should probably TRAIN this model on a down-stream task to be able to use it for predictions and inference.\n",
      "Some weights of the model checkpoint at bert-base-multilingual-cased were not used when initializing BertForSequenceClassification: ['cls.predictions.transform.dense.bias', 'cls.predictions.transform.LayerNorm.bias', 'cls.predictions.decoder.weight', 'cls.predictions.transform.LayerNorm.weight', 'cls.predictions.bias', 'cls.seq_relationship.bias', 'cls.predictions.transform.dense.weight', 'cls.seq_relationship.weight']\n",
      "- This IS expected if you are initializing BertForSequenceClassification from the checkpoint of a model trained on another task or with another architecture (e.g. initializing a BertForSequenceClassification model from a BertForPreTraining model).\n",
      "- This IS NOT expected if you are initializing BertForSequenceClassification from the checkpoint of a model that you expect to be exactly identical (initializing a BertForSequenceClassification model from a BertForSequenceClassification model).\n",
      "Some weights of BertForSequenceClassification were not initialized from the model checkpoint at bert-base-multilingual-cased and are newly initialized: ['classifier.weight', 'classifier.bias']\n",
      "You should probably TRAIN this model on a down-stream task to be able to use it for predictions and inference.\n"
     ]
    },
    {
     "data": {
      "text/plain": [
       "<All keys matched successfully>"
      ]
     },
     "execution_count": 7,
     "metadata": {},
     "output_type": "execute_result"
    }
   ],
   "source": [
    "from transformers import AutoTokenizer, AutoModelForSequenceClassification\n",
    "import torch\n",
    "import tqdm\n",
    "  \n",
    "tokenizer = AutoTokenizer.from_pretrained(\"bert-base-multilingual-cased\")\n",
    "model1 = AutoModelForSequenceClassification.from_pretrained(\"bert-base-multilingual-cased\", \n",
    "                                                           num_labels=2).cuda()\n",
    "model1.load_state_dict(torch.load('deep_model_0_0.69.pth'))\n",
    "model2 = AutoModelForSequenceClassification.from_pretrained(\"bert-base-multilingual-cased\", \n",
    "                                                           num_labels=2).cuda()\n",
    "model2.load_state_dict(torch.load('deep_model_1_0.698.pth'))\n",
    "model3 = AutoModelForSequenceClassification.from_pretrained(\"bert-base-multilingual-cased\", \n",
    "                                                           num_labels=2).cuda()\n",
    "model3.load_state_dict(torch.load('deep_model_2_0.694.pth'))\n",
    "model4 = AutoModelForSequenceClassification.from_pretrained(\"bert-base-multilingual-cased\", \n",
    "                                                           num_labels=2).cuda()\n",
    "model4.load_state_dict(torch.load('deep_model_3_0.712.pth'))\n",
    "model5 = AutoModelForSequenceClassification.from_pretrained(\"bert-base-multilingual-cased\", \n",
    "                                                           num_labels=2).cuda()\n",
    "model5.load_state_dict(torch.load('deep_model_4_0.695.pth'))"
   ]
  },
  {
   "cell_type": "code",
   "execution_count": 9,
   "id": "35875c1f",
   "metadata": {},
   "outputs": [
    {
     "name": "stderr",
     "output_type": "stream",
     "text": [
      "100%|██████████████████████████████████████████████████████████████████████████████████████████████████████████████████████████| 18084/18084 [13:06<00:00, 22.98it/s]\n"
     ]
    }
   ],
   "source": [
    "evaldf = []\n",
    "for t in tqdm.tqdm(range(len(df_train_pairs))):\n",
    "    text1 = df.loc[df.variantid == df_train_pairs.iloc[t].variantid1].text.values[0]\n",
    "    text2 = df.loc[df.variantid == df_train_pairs.iloc[t].variantid2].text.values[0]\n",
    "    tks = tokenizer.encode_plus(text1[:254], text2[:254], max_length=500, pad_to_max_length=False, \n",
    "                        return_attention_mask=True, return_tensors='pt', truncation=True)\n",
    "\n",
    "    with torch.no_grad():\n",
    "        score1 = torch.sigmoid(model1(tks['input_ids'].cuda(), \n",
    "                      attention_mask=tks['attention_mask'].cuda(),\n",
    "                      token_type_ids=tks['token_type_ids'].cuda()).logits[0][1]).item()\n",
    "        score2 = torch.sigmoid(model2(tks['input_ids'].cuda(), \n",
    "                      attention_mask=tks['attention_mask'].cuda(),\n",
    "                      token_type_ids=tks['token_type_ids'].cuda()).logits[0][1]).item()\n",
    "        score3 = torch.sigmoid(model3(tks['input_ids'].cuda(), \n",
    "                      attention_mask=tks['attention_mask'].cuda(),\n",
    "                      token_type_ids=tks['token_type_ids'].cuda()).logits[0][1]).item()\n",
    "        score4 = torch.sigmoid(model4(tks['input_ids'].cuda(), \n",
    "                      attention_mask=tks['attention_mask'].cuda(),\n",
    "                      token_type_ids=tks['token_type_ids'].cuda()).logits[0][1]).item()\n",
    "        score5 = torch.sigmoid(model5(tks['input_ids'].cuda(), \n",
    "                      attention_mask=tks['attention_mask'].cuda(),\n",
    "                      token_type_ids=tks['token_type_ids'].cuda()).logits[0][1]).item()\n",
    "        score = (score1 + score2 + score3 + score4 + score5) * 0.2\n",
    "        evaldf.append((df_train_pairs.iloc[t].variantid1,\n",
    "                       df_train_pairs.iloc[t].variantid2,\n",
    "                       score))\n",
    "        \n",
    "evaldf = pd.DataFrame(evaldf)\n",
    "evaldf.columns = [\"variantid1\",\"variantid2\",\"mbert\"]\n",
    "evaldf.to_parquet('test_mbert.parquet')"
   ]
  },
  {
   "cell_type": "code",
   "execution_count": 9,
   "id": "0198fedd",
   "metadata": {},
   "outputs": [],
   "source": [
    "evaldf.to_csv('sub_scores.csv', index=False)"
   ]
  },
  {
   "cell_type": "code",
   "execution_count": null,
   "id": "a968520f",
   "metadata": {},
   "outputs": [],
   "source": []
  }
 ],
 "metadata": {
  "kernelspec": {
   "display_name": "Python 3 (ipykernel)",
   "language": "python",
   "name": "python3"
  },
  "language_info": {
   "codemirror_mode": {
    "name": "ipython",
    "version": 3
   },
   "file_extension": ".py",
   "mimetype": "text/x-python",
   "name": "python",
   "nbconvert_exporter": "python",
   "pygments_lexer": "ipython3",
   "version": "3.10.9"
  }
 },
 "nbformat": 4,
 "nbformat_minor": 5
}
