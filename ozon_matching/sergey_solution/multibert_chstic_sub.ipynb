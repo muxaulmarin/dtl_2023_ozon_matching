{
 "cells": [
  {
   "cell_type": "code",
   "execution_count": 1,
   "id": "4a01e9a3",
   "metadata": {},
   "outputs": [],
   "source": [
    "import pandas as pd\n",
    "\n",
    "df = pd.read_parquet('hackathon_files_for_participants_ozon/test_data.parquet')"
   ]
  },
  {
   "cell_type": "code",
   "execution_count": 2,
   "id": "de9c37da",
   "metadata": {},
   "outputs": [
    {
     "data": {
      "text/html": [
       "<div>\n",
       "<style scoped>\n",
       "    .dataframe tbody tr th:only-of-type {\n",
       "        vertical-align: middle;\n",
       "    }\n",
       "\n",
       "    .dataframe tbody tr th {\n",
       "        vertical-align: top;\n",
       "    }\n",
       "\n",
       "    .dataframe thead th {\n",
       "        text-align: right;\n",
       "    }\n",
       "</style>\n",
       "<table border=\"1\" class=\"dataframe\">\n",
       "  <thead>\n",
       "    <tr style=\"text-align: right;\">\n",
       "      <th></th>\n",
       "      <th>variantid</th>\n",
       "      <th>name</th>\n",
       "      <th>categories</th>\n",
       "      <th>color_parsed</th>\n",
       "      <th>pic_embeddings_resnet_v1</th>\n",
       "      <th>main_pic_embeddings_resnet_v1</th>\n",
       "      <th>name_bert_64</th>\n",
       "      <th>characteristic_attributes_mapping</th>\n",
       "    </tr>\n",
       "  </thead>\n",
       "  <tbody>\n",
       "    <tr>\n",
       "      <th>0</th>\n",
       "      <td>51201254</td>\n",
       "      <td>Колодка TDM Electric четырехместная без заземл...</td>\n",
       "      <td>{\"1\": \"EPG\", \"2\": \"Электроника\", \"3\": \"Сетевые...</td>\n",
       "      <td>[белый]</td>\n",
       "      <td>[[0.34383398, -0.2962618, 0.07987049, -0.08257...</td>\n",
       "      <td>[[0.38310742, -0.7876679, 0.5018278, 0.2090071...</td>\n",
       "      <td>[-0.5060825, 0.5773388, 0.59435517, -0.4958292...</td>\n",
       "      <td>{\"Страна-изготовитель\":[\"Китай\"],\"Бренд\":[\"TDM...</td>\n",
       "    </tr>\n",
       "    <tr>\n",
       "      <th>1</th>\n",
       "      <td>77151532</td>\n",
       "      <td>Клавиатура черная с черной рамкой для 25-011879</td>\n",
       "      <td>{\"1\": \"EPG\", \"2\": \"Электроника\", \"3\": \"Запчаст...</td>\n",
       "      <td>[черный]</td>\n",
       "      <td>None</td>\n",
       "      <td>[[0.50964713, 0.7958329, -1.4113188, 0.1999381...</td>\n",
       "      <td>[-0.43467724, 0.6614495, 0.48050267, -0.588880...</td>\n",
       "      <td>{\"Страна-изготовитель\":[\"Китай\"],\"Комплектация...</td>\n",
       "    </tr>\n",
       "    <tr>\n",
       "      <th>2</th>\n",
       "      <td>89664856</td>\n",
       "      <td>15.6\" Игровой ноутбук Acer Predator Helios 300...</td>\n",
       "      <td>{\"1\": \"EPG\", \"2\": \"Электроника\", \"3\": \"Компьют...</td>\n",
       "      <td>[черный]</td>\n",
       "      <td>[[0.7804302, -0.245446, -0.67754817, -0.614691...</td>\n",
       "      <td>[[0.9958085, -0.113175124, -0.7623152, -0.9164...</td>\n",
       "      <td>[-0.70010763, 0.48152006, 0.47597092, -0.51727...</td>\n",
       "      <td>{\"Видеокарта\":[\"NVIDIA GeForce RTX 2070 (8 Гб)...</td>\n",
       "    </tr>\n",
       "    <tr>\n",
       "      <th>3</th>\n",
       "      <td>90701982</td>\n",
       "      <td>Портативная колонка Borofone BR7 Empyreal Spor...</td>\n",
       "      <td>{\"1\": \"EPG\", \"2\": \"Электроника\", \"3\": \"Акустик...</td>\n",
       "      <td>[red, красный]</td>\n",
       "      <td>[[-0.24636984, -1.0719914, -0.49986655, 0.3423...</td>\n",
       "      <td>[[-0.26596686, -1.143009, -0.5289628, 0.428558...</td>\n",
       "      <td>[-0.73135185, -0.039796613, 0.38907066, -0.496...</td>\n",
       "      <td>{\"Основной материал корпуса\":[\"Металл\"],\"Макси...</td>\n",
       "    </tr>\n",
       "    <tr>\n",
       "      <th>4</th>\n",
       "      <td>92484118</td>\n",
       "      <td>Аккумулятор для Meizu BA712 ( M6s )</td>\n",
       "      <td>{\"1\": \"EPG\", \"2\": \"Электроника\", \"3\": \"Батарей...</td>\n",
       "      <td>None</td>\n",
       "      <td>None</td>\n",
       "      <td>[[0.42047608, 0.75828516, 0.5440093, -0.006894...</td>\n",
       "      <td>[-0.600158, 0.13944691, 0.48706242, -0.5050975...</td>\n",
       "      <td>{\"Рекомендовано для\":[\"Meizu\"],\"Бренд\":[\"Meizu...</td>\n",
       "    </tr>\n",
       "  </tbody>\n",
       "</table>\n",
       "</div>"
      ],
      "text/plain": [
       "   variantid                                               name   \n",
       "0   51201254  Колодка TDM Electric четырехместная без заземл...  \\\n",
       "1   77151532    Клавиатура черная с черной рамкой для 25-011879   \n",
       "2   89664856  15.6\" Игровой ноутбук Acer Predator Helios 300...   \n",
       "3   90701982  Портативная колонка Borofone BR7 Empyreal Spor...   \n",
       "4   92484118                Аккумулятор для Meizu BA712 ( M6s )   \n",
       "\n",
       "                                          categories    color_parsed   \n",
       "0  {\"1\": \"EPG\", \"2\": \"Электроника\", \"3\": \"Сетевые...         [белый]  \\\n",
       "1  {\"1\": \"EPG\", \"2\": \"Электроника\", \"3\": \"Запчаст...        [черный]   \n",
       "2  {\"1\": \"EPG\", \"2\": \"Электроника\", \"3\": \"Компьют...        [черный]   \n",
       "3  {\"1\": \"EPG\", \"2\": \"Электроника\", \"3\": \"Акустик...  [red, красный]   \n",
       "4  {\"1\": \"EPG\", \"2\": \"Электроника\", \"3\": \"Батарей...            None   \n",
       "\n",
       "                            pic_embeddings_resnet_v1   \n",
       "0  [[0.34383398, -0.2962618, 0.07987049, -0.08257...  \\\n",
       "1                                               None   \n",
       "2  [[0.7804302, -0.245446, -0.67754817, -0.614691...   \n",
       "3  [[-0.24636984, -1.0719914, -0.49986655, 0.3423...   \n",
       "4                                               None   \n",
       "\n",
       "                       main_pic_embeddings_resnet_v1   \n",
       "0  [[0.38310742, -0.7876679, 0.5018278, 0.2090071...  \\\n",
       "1  [[0.50964713, 0.7958329, -1.4113188, 0.1999381...   \n",
       "2  [[0.9958085, -0.113175124, -0.7623152, -0.9164...   \n",
       "3  [[-0.26596686, -1.143009, -0.5289628, 0.428558...   \n",
       "4  [[0.42047608, 0.75828516, 0.5440093, -0.006894...   \n",
       "\n",
       "                                        name_bert_64   \n",
       "0  [-0.5060825, 0.5773388, 0.59435517, -0.4958292...  \\\n",
       "1  [-0.43467724, 0.6614495, 0.48050267, -0.588880...   \n",
       "2  [-0.70010763, 0.48152006, 0.47597092, -0.51727...   \n",
       "3  [-0.73135185, -0.039796613, 0.38907066, -0.496...   \n",
       "4  [-0.600158, 0.13944691, 0.48706242, -0.5050975...   \n",
       "\n",
       "                   characteristic_attributes_mapping  \n",
       "0  {\"Страна-изготовитель\":[\"Китай\"],\"Бренд\":[\"TDM...  \n",
       "1  {\"Страна-изготовитель\":[\"Китай\"],\"Комплектация...  \n",
       "2  {\"Видеокарта\":[\"NVIDIA GeForce RTX 2070 (8 Гб)...  \n",
       "3  {\"Основной материал корпуса\":[\"Металл\"],\"Макси...  \n",
       "4  {\"Рекомендовано для\":[\"Meizu\"],\"Бренд\":[\"Meizu...  "
      ]
     },
     "execution_count": 2,
     "metadata": {},
     "output_type": "execute_result"
    }
   ],
   "source": [
    "df.head()"
   ]
  },
  {
   "cell_type": "code",
   "execution_count": 3,
   "id": "808cd008",
   "metadata": {},
   "outputs": [],
   "source": [
    "df_train_pairs = pd.read_parquet('hackathon_files_for_participants_ozon/test_pairs_wo_target.parquet')"
   ]
  },
  {
   "cell_type": "code",
   "execution_count": 4,
   "id": "fc4e6b77",
   "metadata": {},
   "outputs": [],
   "source": [
    "df['cat3'] = df['categories'].apply(lambda x : eval(x)['3'])"
   ]
  },
  {
   "cell_type": "code",
   "execution_count": 5,
   "id": "2678097f",
   "metadata": {},
   "outputs": [
    {
     "name": "stderr",
     "output_type": "stream",
     "text": [
      "100%|█████████████████████████████████████████████████████████████████████████████████████████████████████████████████████████| 18084/18084 [00:27<00:00, 650.11it/s]\n"
     ]
    }
   ],
   "source": [
    "import tqdm\n",
    "def making_char_pairs(js1, js2):\n",
    "    res_dist, res_similar = [], []\n",
    "    try:\n",
    "        js1 = eval(js1)\n",
    "        js2 = eval(js2)\n",
    "        jskeys = set(js1.keys()) & set(js2.keys())\n",
    "    except:\n",
    "        return res_dist, res_similar\n",
    "    \n",
    "    for k in jskeys:\n",
    "        v1 = js1.get(k)\n",
    "        v2 = js2.get(k)\n",
    "        if v1 != v2:\n",
    "            res_dist.append(k)\n",
    "        if v1 == v2:\n",
    "            res_similar.append(k)\n",
    "    return res_dist, res_similar\n",
    "\n",
    "dataset = []\n",
    "for i in tqdm.tqdm(range(len(df_train_pairs))):\n",
    "    t1,t2 = df_train_pairs.iloc[i].variantid1, df_train_pairs.iloc[i].variantid2\n",
    "    target = 0\n",
    "    category = df.loc[df.variantid == t1].cat3.values[0]\n",
    "    name1 = df.loc[df.variantid == t1].name.values[0]\n",
    "    name2 = df.loc[df.variantid == t2].name.values[0]\n",
    "    cat_groupped = \"rest\"\n",
    "    res_dist, res_similar = making_char_pairs(df.loc[df.variantid == t1].characteristic_attributes_mapping.values[0],\n",
    "                                              df.loc[df.variantid == t2].characteristic_attributes_mapping.values[0]\n",
    "                                             )\n",
    "    dataset.append((category, name1, name2, ', '.join(res_dist), ', '.join(res_similar), target, cat_groupped))"
   ]
  },
  {
   "cell_type": "code",
   "execution_count": 42,
   "id": "bf737a74",
   "metadata": {},
   "outputs": [
    {
     "name": "stderr",
     "output_type": "stream",
     "text": [
      "Some weights of the model checkpoint at bert-base-multilingual-cased were not used when initializing BertForSequenceClassification: ['cls.predictions.decoder.weight', 'cls.seq_relationship.bias', 'cls.seq_relationship.weight', 'cls.predictions.transform.dense.weight', 'cls.predictions.transform.dense.bias', 'cls.predictions.transform.LayerNorm.weight', 'cls.predictions.transform.LayerNorm.bias', 'cls.predictions.bias']\n",
      "- This IS expected if you are initializing BertForSequenceClassification from the checkpoint of a model trained on another task or with another architecture (e.g. initializing a BertForSequenceClassification model from a BertForPreTraining model).\n",
      "- This IS NOT expected if you are initializing BertForSequenceClassification from the checkpoint of a model that you expect to be exactly identical (initializing a BertForSequenceClassification model from a BertForSequenceClassification model).\n",
      "Some weights of BertForSequenceClassification were not initialized from the model checkpoint at bert-base-multilingual-cased and are newly initialized: ['classifier.bias', 'classifier.weight']\n",
      "You should probably TRAIN this model on a down-stream task to be able to use it for predictions and inference.\n",
      "Some weights of the model checkpoint at bert-base-multilingual-cased were not used when initializing BertForSequenceClassification: ['cls.predictions.decoder.weight', 'cls.seq_relationship.bias', 'cls.seq_relationship.weight', 'cls.predictions.transform.dense.weight', 'cls.predictions.transform.dense.bias', 'cls.predictions.transform.LayerNorm.weight', 'cls.predictions.transform.LayerNorm.bias', 'cls.predictions.bias']\n",
      "- This IS expected if you are initializing BertForSequenceClassification from the checkpoint of a model trained on another task or with another architecture (e.g. initializing a BertForSequenceClassification model from a BertForPreTraining model).\n",
      "- This IS NOT expected if you are initializing BertForSequenceClassification from the checkpoint of a model that you expect to be exactly identical (initializing a BertForSequenceClassification model from a BertForSequenceClassification model).\n",
      "Some weights of BertForSequenceClassification were not initialized from the model checkpoint at bert-base-multilingual-cased and are newly initialized: ['classifier.bias', 'classifier.weight']\n",
      "You should probably TRAIN this model on a down-stream task to be able to use it for predictions and inference.\n",
      "Some weights of the model checkpoint at bert-base-multilingual-cased were not used when initializing BertForSequenceClassification: ['cls.predictions.decoder.weight', 'cls.seq_relationship.bias', 'cls.seq_relationship.weight', 'cls.predictions.transform.dense.weight', 'cls.predictions.transform.dense.bias', 'cls.predictions.transform.LayerNorm.weight', 'cls.predictions.transform.LayerNorm.bias', 'cls.predictions.bias']\n",
      "- This IS expected if you are initializing BertForSequenceClassification from the checkpoint of a model trained on another task or with another architecture (e.g. initializing a BertForSequenceClassification model from a BertForPreTraining model).\n",
      "- This IS NOT expected if you are initializing BertForSequenceClassification from the checkpoint of a model that you expect to be exactly identical (initializing a BertForSequenceClassification model from a BertForSequenceClassification model).\n",
      "Some weights of BertForSequenceClassification were not initialized from the model checkpoint at bert-base-multilingual-cased and are newly initialized: ['classifier.bias', 'classifier.weight']\n",
      "You should probably TRAIN this model on a down-stream task to be able to use it for predictions and inference.\n",
      "Some weights of the model checkpoint at bert-base-multilingual-cased were not used when initializing BertForSequenceClassification: ['cls.predictions.decoder.weight', 'cls.seq_relationship.bias', 'cls.seq_relationship.weight', 'cls.predictions.transform.dense.weight', 'cls.predictions.transform.dense.bias', 'cls.predictions.transform.LayerNorm.weight', 'cls.predictions.transform.LayerNorm.bias', 'cls.predictions.bias']\n",
      "- This IS expected if you are initializing BertForSequenceClassification from the checkpoint of a model trained on another task or with another architecture (e.g. initializing a BertForSequenceClassification model from a BertForPreTraining model).\n",
      "- This IS NOT expected if you are initializing BertForSequenceClassification from the checkpoint of a model that you expect to be exactly identical (initializing a BertForSequenceClassification model from a BertForSequenceClassification model).\n",
      "Some weights of BertForSequenceClassification were not initialized from the model checkpoint at bert-base-multilingual-cased and are newly initialized: ['classifier.bias', 'classifier.weight']\n",
      "You should probably TRAIN this model on a down-stream task to be able to use it for predictions and inference.\n",
      "Some weights of the model checkpoint at bert-base-multilingual-cased were not used when initializing BertForSequenceClassification: ['cls.predictions.decoder.weight', 'cls.seq_relationship.bias', 'cls.seq_relationship.weight', 'cls.predictions.transform.dense.weight', 'cls.predictions.transform.dense.bias', 'cls.predictions.transform.LayerNorm.weight', 'cls.predictions.transform.LayerNorm.bias', 'cls.predictions.bias']\n",
      "- This IS expected if you are initializing BertForSequenceClassification from the checkpoint of a model trained on another task or with another architecture (e.g. initializing a BertForSequenceClassification model from a BertForPreTraining model).\n",
      "- This IS NOT expected if you are initializing BertForSequenceClassification from the checkpoint of a model that you expect to be exactly identical (initializing a BertForSequenceClassification model from a BertForSequenceClassification model).\n",
      "Some weights of BertForSequenceClassification were not initialized from the model checkpoint at bert-base-multilingual-cased and are newly initialized: ['classifier.bias', 'classifier.weight']\n",
      "You should probably TRAIN this model on a down-stream task to be able to use it for predictions and inference.\n"
     ]
    },
    {
     "data": {
      "text/plain": [
       "<All keys matched successfully>"
      ]
     },
     "execution_count": 42,
     "metadata": {},
     "output_type": "execute_result"
    }
   ],
   "source": [
    "from transformers import AutoTokenizer, AutoModelForSequenceClassification\n",
    "import torch\n",
    "import tqdm\n",
    "  \n",
    "tokenizer = AutoTokenizer.from_pretrained(\"bert-base-multilingual-cased\")\n",
    "model1 = AutoModelForSequenceClassification.from_pretrained(\"bert-base-multilingual-cased\", \n",
    "                                                           num_labels=2).cuda()\n",
    "model1.load_state_dict(torch.load('chstic_0_0.762_0.937.pth'))\n",
    "\n",
    "model2 = AutoModelForSequenceClassification.from_pretrained(\"bert-base-multilingual-cased\", \n",
    "                                                           num_labels=2).cuda()\n",
    "model2.load_state_dict(torch.load('chstic_1_0.767_0.937.pth'))\n",
    "model3 = AutoModelForSequenceClassification.from_pretrained(\"bert-base-multilingual-cased\", \n",
    "                                                           num_labels=2).cuda()\n",
    "model3.load_state_dict(torch.load('chstic_2_0.764_0.937.pth'))\n",
    "model4 = AutoModelForSequenceClassification.from_pretrained(\"bert-base-multilingual-cased\", \n",
    "                                                           num_labels=2).cuda()\n",
    "model4.load_state_dict(torch.load('chstic_3_0.762_0.937.pth'))\n",
    "model5 = AutoModelForSequenceClassification.from_pretrained(\"bert-base-multilingual-cased\", \n",
    "                                                           num_labels=2).cuda()\n",
    "model5.load_state_dict(torch.load('chstic_4_0.763_0.936.pth'))\n"
   ]
  },
  {
   "cell_type": "code",
   "execution_count": 43,
   "id": "35875c1f",
   "metadata": {},
   "outputs": [
    {
     "name": "stderr",
     "output_type": "stream",
     "text": [
      "100%|██████████████████████████████████████████████████████████████████████████████████████████████████████████████████████████| 18084/18084 [13:23<00:00, 22.49it/s]\n"
     ]
    }
   ],
   "source": [
    "evaldf = []\n",
    "for t in tqdm.tqdm(range(len(dataset))):\n",
    "    category, name1, name2, dist, sim, target, cat_groupped = dataset[t]\n",
    "    s = category + '[SEP]' + name1 + '[SEP]' + name2 + '[SEP]'  + dist #+ '[SEP]' + sim\n",
    "    tks = tokenizer.encode_plus(s[:1200], max_length=512, pad_to_max_length=False,\n",
    "                        return_attention_mask=True, return_tensors='pt', truncation=True)\n",
    "\n",
    "    with torch.no_grad():\n",
    "        score1 = torch.sigmoid(model1(tks['input_ids'].cuda(), \n",
    "                      attention_mask=tks['attention_mask'].cuda(),\n",
    "                      token_type_ids=tks['token_type_ids'].cuda()).logits[0][1]).item()\n",
    "        score2 = torch.sigmoid(model2(tks['input_ids'].cuda(), \n",
    "                      attention_mask=tks['attention_mask'].cuda(),\n",
    "                      token_type_ids=tks['token_type_ids'].cuda()).logits[0][1]).item()\n",
    "        score3 = torch.sigmoid(model3(tks['input_ids'].cuda(), \n",
    "                      attention_mask=tks['attention_mask'].cuda(),\n",
    "                      token_type_ids=tks['token_type_ids'].cuda()).logits[0][1]).item()\n",
    "        score4 = torch.sigmoid(model4(tks['input_ids'].cuda(), \n",
    "                      attention_mask=tks['attention_mask'].cuda(),\n",
    "                      token_type_ids=tks['token_type_ids'].cuda()).logits[0][1]).item()\n",
    "        score5 = torch.sigmoid(model5(tks['input_ids'].cuda(), \n",
    "                      attention_mask=tks['attention_mask'].cuda(),\n",
    "                      token_type_ids=tks['token_type_ids'].cuda()).logits[0][1]).item()\n",
    "        score = (score1 + score2 + score3 + score4 + score5) * 0.2\n",
    "        \n",
    "        #score = score1\n",
    "        evaldf.append((df_train_pairs.iloc[t].variantid1,\n",
    "                       df_train_pairs.iloc[t].variantid2,\n",
    "                       score))\n",
    "        \n",
    "evaldf = pd.DataFrame(evaldf)\n",
    "evaldf.columns = [\"variantid1\",\"variantid2\",\"chstic\"]\n",
    "evaldf.to_parquet('test_chstic.parquet')\n",
    "\n",
    "nn_features = pd.read_parquet('test_mbert.parquet')\n",
    "nn_features = nn_features.merge(evaldf, on=[\"variantid1\",\"variantid2\"], how='left')\n",
    "nn_features.to_parquet('nn/test.parquet')"
   ]
  },
  {
   "cell_type": "code",
   "execution_count": null,
   "id": "a968520f",
   "metadata": {},
   "outputs": [],
   "source": []
  }
 ],
 "metadata": {
  "kernelspec": {
   "display_name": "Python 3 (ipykernel)",
   "language": "python",
   "name": "python3"
  },
  "language_info": {
   "codemirror_mode": {
    "name": "ipython",
    "version": 3
   },
   "file_extension": ".py",
   "mimetype": "text/x-python",
   "name": "python",
   "nbconvert_exporter": "python",
   "pygments_lexer": "ipython3",
   "version": "3.10.9"
  }
 },
 "nbformat": 4,
 "nbformat_minor": 5
}
